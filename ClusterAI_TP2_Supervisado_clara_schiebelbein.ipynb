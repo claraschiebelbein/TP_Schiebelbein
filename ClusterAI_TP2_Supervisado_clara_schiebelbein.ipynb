{
  "cells": [
    {
      "cell_type": "markdown",
      "metadata": {
        "id": "P3ANPsbtkuXj"
      },
      "source": [
        "## **Trabajo Práctico Individual n° 2: Aprendizaje Supervisado**\n",
        "____\n",
        "__Universidad Tecnológica Nacional, Buenos Aires__\\\n",
        "__Ingeniería Industrial__\\\n",
        "__Ciencia de Datos - Curso I5521__\n",
        "____"
      ]
    },
    {
      "cell_type": "markdown",
      "metadata": {
        "id": "cTPsPHb_lWTE"
      },
      "source": [
        "- Nombre:clara\n",
        "- Apellido: schiebelbein\n",
        "- Legajo: 1526005"
      ]
    },
    {
      "cell_type": "markdown",
      "metadata": {
        "id": "E5W-65MskuXx"
      },
      "source": [
        "En este trabajo práctico aplicaremos algunas técnicas aprendidas para el aprendizaje automático supervisado.\n",
        "\n",
        "Utilizaremos un dataset de airbnb donde buscaremos predecir el precio de las noches de cada hogar en funcion de algunas variables."
      ]
    },
    {
      "cell_type": "markdown",
      "metadata": {
        "id": "mKUpHSLqkuXz"
      },
      "source": [
        "#### Variables:\n",
        "- Unnamed: 0: Variable de contador de registros (no será utilizada en nuetro análisis)\n",
        "- neighbourhood: Barrio donde se encuentra ubicado la casa.\n",
        "- room_type: Tipo de hogar en alquiler.\n",
        "- price: Precio por noche.\n",
        "- minimum_nights: Cantidad minimas de noches que pueden alquilar el hogar.\n",
        "- number_of_reviews: Cantidad de reviews\n",
        "- reviews_per_month: Tasa de reviews que tienen por mes\n",
        "- calculated_host_listings_count: Cantidad de hogares ofrecidos por el host.\n",
        "- availability_365: Cantidad de dias que se encuentra en alquiler el hogar"
      ]
    },
    {
      "cell_type": "code",
      "execution_count": 1,
      "metadata": {
        "colab": {
          "base_uri": "https://localhost:8080/"
        },
        "id": "Gd27I-bRcQMP",
        "outputId": "97a382ff-52fd-4f20-dde4-533024ffb04a"
      },
      "outputs": [
        {
          "output_type": "stream",
          "name": "stdout",
          "text": [
            "True\n",
            "Mounted at /content/gdrive\n"
          ]
        }
      ],
      "source": [
        "# Verificamos si estamos en Colab\n",
        "var_google_colab = 'google.colab' in str(get_ipython())\n",
        "print(var_google_colab)\n",
        "if var_google_colab: \n",
        "  #Montamos nuestro G.Drive\n",
        "  from google.colab import drive\n",
        "  drive.mount('/content/gdrive',force_remount=True)"
      ]
    },
    {
      "cell_type": "code",
      "execution_count": 3,
      "metadata": {
        "id": "n59daUsndo6N"
      },
      "outputs": [],
      "source": [
        " if var_google_colab:\n",
        " # Direccion root donde está la jupyter-notebook\n",
        "  root_path = \"/content/gdrive/MyDrive/UTN-FRBA/Ciencia de datos/TP/\"\n"
      ]
    },
    {
      "cell_type": "markdown",
      "metadata": {
        "id": "hWk9Vqs8l5jg"
      },
      "source": [
        "## **Objetivos del trabajo practico**\n",
        "- resolver los requisitos que se detallan en las proximas celdas\n",
        "- dejar comentarios # en cada linea de codigo que se agregue\n",
        "- fecha limite de entrega: 13 de Octubre 2022 a las 23h59"
      ]
    },
    {
      "cell_type": "code",
      "execution_count": 4,
      "metadata": {
        "id": "7VzMW3fvkuX0"
      },
      "outputs": [],
      "source": [
        "## Importo librerías de maniupulación de datos\n",
        "import pandas as pd\n",
        "import numpy as np\n",
        "import seaborn as sns\n",
        "import matplotlib.pyplot as plt"
      ]
    },
    {
      "cell_type": "code",
      "execution_count": 5,
      "metadata": {
        "id": "NFgDAUVLNfhE"
      },
      "outputs": [],
      "source": [
        "## Importo librerías de Aprendizaje automático\n",
        "from sklearn import preprocessing\n",
        "from sklearn import linear_model\n",
        "from sklearn.model_selection import train_test_split, cross_val_score\n",
        "from sklearn.metrics import r2_score, mean_squared_error\n",
        "from sklearn.utils import shuffle\n",
        "from sklearn.preprocessing import StandardScaler\n",
        "from sklearn import preprocessing\n",
        "from sklearn.preprocessing import LabelEncoder\n",
        "from sklearn.linear_model import LinearRegression\n",
        "from sklearn.svm import SVR, LinearSVR\n",
        "from sklearn.metrics import mean_squared_error, make_scorer\n",
        "from sklearn.model_selection import GridSearchCV\n",
        "from sklearn import svm\n",
        "from sklearn.svm import SVC"
      ]
    },
    {
      "cell_type": "markdown",
      "metadata": {
        "id": "v7h4SOeAkuX4"
      },
      "source": [
        "##### **Objetivo 1**\n",
        "Lo primero que deberan hacer será importar\n",
        "- el dataset bajo en nombre \"london\"\n",
        "- corroborar que lo hayamos cargado correctamente."
      ]
    },
    {
      "cell_type": "code",
      "execution_count": 6,
      "metadata": {
        "colab": {
          "base_uri": "https://localhost:8080/",
          "height": 206
        },
        "id": "2EOIgMedmgBM",
        "outputId": "877f733c-ec2e-43c1-c1fd-35736116e0e7"
      },
      "outputs": [
        {
          "output_type": "execute_result",
          "data": {
            "text/plain": [
              "   Unnamed: 0  neighbourhood        room_type  price  minimum_nights  \\\n",
              "0           0       Haringey     Private room     35               1   \n",
              "1           1         Ealing     Private room     70               2   \n",
              "2           2      Islington     Private room     45               1   \n",
              "3           5  Tower Hamlets  Entire home/apt    102               5   \n",
              "4           6         Barnet     Private room     29               5   \n",
              "\n",
              "   number_of_reviews  reviews_per_month  calculated_host_listings_count  \\\n",
              "0                131               1.71                               4   \n",
              "1                  2               0.07                               6   \n",
              "2                 14               0.14                               2   \n",
              "3                  7               0.07                              56   \n",
              "4                114               1.13                               3   \n",
              "\n",
              "   availability_365  \n",
              "0               262  \n",
              "1                62  \n",
              "2               364  \n",
              "3               295  \n",
              "4               285  "
            ],
            "text/html": [
              "\n",
              "  <div id=\"df-e5b9c9d4-ef30-40bb-a550-ad38a331a5e2\">\n",
              "    <div class=\"colab-df-container\">\n",
              "      <div>\n",
              "<style scoped>\n",
              "    .dataframe tbody tr th:only-of-type {\n",
              "        vertical-align: middle;\n",
              "    }\n",
              "\n",
              "    .dataframe tbody tr th {\n",
              "        vertical-align: top;\n",
              "    }\n",
              "\n",
              "    .dataframe thead th {\n",
              "        text-align: right;\n",
              "    }\n",
              "</style>\n",
              "<table border=\"1\" class=\"dataframe\">\n",
              "  <thead>\n",
              "    <tr style=\"text-align: right;\">\n",
              "      <th></th>\n",
              "      <th>Unnamed: 0</th>\n",
              "      <th>neighbourhood</th>\n",
              "      <th>room_type</th>\n",
              "      <th>price</th>\n",
              "      <th>minimum_nights</th>\n",
              "      <th>number_of_reviews</th>\n",
              "      <th>reviews_per_month</th>\n",
              "      <th>calculated_host_listings_count</th>\n",
              "      <th>availability_365</th>\n",
              "    </tr>\n",
              "  </thead>\n",
              "  <tbody>\n",
              "    <tr>\n",
              "      <th>0</th>\n",
              "      <td>0</td>\n",
              "      <td>Haringey</td>\n",
              "      <td>Private room</td>\n",
              "      <td>35</td>\n",
              "      <td>1</td>\n",
              "      <td>131</td>\n",
              "      <td>1.71</td>\n",
              "      <td>4</td>\n",
              "      <td>262</td>\n",
              "    </tr>\n",
              "    <tr>\n",
              "      <th>1</th>\n",
              "      <td>1</td>\n",
              "      <td>Ealing</td>\n",
              "      <td>Private room</td>\n",
              "      <td>70</td>\n",
              "      <td>2</td>\n",
              "      <td>2</td>\n",
              "      <td>0.07</td>\n",
              "      <td>6</td>\n",
              "      <td>62</td>\n",
              "    </tr>\n",
              "    <tr>\n",
              "      <th>2</th>\n",
              "      <td>2</td>\n",
              "      <td>Islington</td>\n",
              "      <td>Private room</td>\n",
              "      <td>45</td>\n",
              "      <td>1</td>\n",
              "      <td>14</td>\n",
              "      <td>0.14</td>\n",
              "      <td>2</td>\n",
              "      <td>364</td>\n",
              "    </tr>\n",
              "    <tr>\n",
              "      <th>3</th>\n",
              "      <td>5</td>\n",
              "      <td>Tower Hamlets</td>\n",
              "      <td>Entire home/apt</td>\n",
              "      <td>102</td>\n",
              "      <td>5</td>\n",
              "      <td>7</td>\n",
              "      <td>0.07</td>\n",
              "      <td>56</td>\n",
              "      <td>295</td>\n",
              "    </tr>\n",
              "    <tr>\n",
              "      <th>4</th>\n",
              "      <td>6</td>\n",
              "      <td>Barnet</td>\n",
              "      <td>Private room</td>\n",
              "      <td>29</td>\n",
              "      <td>5</td>\n",
              "      <td>114</td>\n",
              "      <td>1.13</td>\n",
              "      <td>3</td>\n",
              "      <td>285</td>\n",
              "    </tr>\n",
              "  </tbody>\n",
              "</table>\n",
              "</div>\n",
              "      <button class=\"colab-df-convert\" onclick=\"convertToInteractive('df-e5b9c9d4-ef30-40bb-a550-ad38a331a5e2')\"\n",
              "              title=\"Convert this dataframe to an interactive table.\"\n",
              "              style=\"display:none;\">\n",
              "        \n",
              "  <svg xmlns=\"http://www.w3.org/2000/svg\" height=\"24px\"viewBox=\"0 0 24 24\"\n",
              "       width=\"24px\">\n",
              "    <path d=\"M0 0h24v24H0V0z\" fill=\"none\"/>\n",
              "    <path d=\"M18.56 5.44l.94 2.06.94-2.06 2.06-.94-2.06-.94-.94-2.06-.94 2.06-2.06.94zm-11 1L8.5 8.5l.94-2.06 2.06-.94-2.06-.94L8.5 2.5l-.94 2.06-2.06.94zm10 10l.94 2.06.94-2.06 2.06-.94-2.06-.94-.94-2.06-.94 2.06-2.06.94z\"/><path d=\"M17.41 7.96l-1.37-1.37c-.4-.4-.92-.59-1.43-.59-.52 0-1.04.2-1.43.59L10.3 9.45l-7.72 7.72c-.78.78-.78 2.05 0 2.83L4 21.41c.39.39.9.59 1.41.59.51 0 1.02-.2 1.41-.59l7.78-7.78 2.81-2.81c.8-.78.8-2.07 0-2.86zM5.41 20L4 18.59l7.72-7.72 1.47 1.35L5.41 20z\"/>\n",
              "  </svg>\n",
              "      </button>\n",
              "      \n",
              "  <style>\n",
              "    .colab-df-container {\n",
              "      display:flex;\n",
              "      flex-wrap:wrap;\n",
              "      gap: 12px;\n",
              "    }\n",
              "\n",
              "    .colab-df-convert {\n",
              "      background-color: #E8F0FE;\n",
              "      border: none;\n",
              "      border-radius: 50%;\n",
              "      cursor: pointer;\n",
              "      display: none;\n",
              "      fill: #1967D2;\n",
              "      height: 32px;\n",
              "      padding: 0 0 0 0;\n",
              "      width: 32px;\n",
              "    }\n",
              "\n",
              "    .colab-df-convert:hover {\n",
              "      background-color: #E2EBFA;\n",
              "      box-shadow: 0px 1px 2px rgba(60, 64, 67, 0.3), 0px 1px 3px 1px rgba(60, 64, 67, 0.15);\n",
              "      fill: #174EA6;\n",
              "    }\n",
              "\n",
              "    [theme=dark] .colab-df-convert {\n",
              "      background-color: #3B4455;\n",
              "      fill: #D2E3FC;\n",
              "    }\n",
              "\n",
              "    [theme=dark] .colab-df-convert:hover {\n",
              "      background-color: #434B5C;\n",
              "      box-shadow: 0px 1px 3px 1px rgba(0, 0, 0, 0.15);\n",
              "      filter: drop-shadow(0px 1px 2px rgba(0, 0, 0, 0.3));\n",
              "      fill: #FFFFFF;\n",
              "    }\n",
              "  </style>\n",
              "\n",
              "      <script>\n",
              "        const buttonEl =\n",
              "          document.querySelector('#df-e5b9c9d4-ef30-40bb-a550-ad38a331a5e2 button.colab-df-convert');\n",
              "        buttonEl.style.display =\n",
              "          google.colab.kernel.accessAllowed ? 'block' : 'none';\n",
              "\n",
              "        async function convertToInteractive(key) {\n",
              "          const element = document.querySelector('#df-e5b9c9d4-ef30-40bb-a550-ad38a331a5e2');\n",
              "          const dataTable =\n",
              "            await google.colab.kernel.invokeFunction('convertToInteractive',\n",
              "                                                     [key], {});\n",
              "          if (!dataTable) return;\n",
              "\n",
              "          const docLinkHtml = 'Like what you see? Visit the ' +\n",
              "            '<a target=\"_blank\" href=https://colab.research.google.com/notebooks/data_table.ipynb>data table notebook</a>'\n",
              "            + ' to learn more about interactive tables.';\n",
              "          element.innerHTML = '';\n",
              "          dataTable['output_type'] = 'display_data';\n",
              "          await google.colab.output.renderOutput(dataTable, element);\n",
              "          const docLink = document.createElement('div');\n",
              "          docLink.innerHTML = docLinkHtml;\n",
              "          element.appendChild(docLink);\n",
              "        }\n",
              "      </script>\n",
              "    </div>\n",
              "  </div>\n",
              "  "
            ]
          },
          "metadata": {},
          "execution_count": 6
        }
      ],
      "source": [
        "# importo el dataset london\n",
        "london= pd.read_csv(root_path+'TP2_airbnb_london.csv')\n",
        "#Vemos que se haya importado correctamente\n",
        "london.head()"
      ]
    },
    {
      "cell_type": "markdown",
      "metadata": {
        "id": "LFZY1u8XkuX5"
      },
      "source": [
        "##### **Objetivo 2**\n",
        "Ahora imprimir también las dimensiones del dataset y eliminar la variable \"Unnamed:0\" del dataset.\n",
        "Volver a guardar el dataset sin esta variable bajo el nombre \"london\" "
      ]
    },
    {
      "cell_type": "code",
      "execution_count": 7,
      "metadata": {
        "colab": {
          "base_uri": "https://localhost:8080/"
        },
        "id": "V6WzWe1JkuX7",
        "outputId": "5fddac59-a468-499b-d6d1-115096f8ebd2"
      },
      "outputs": [
        {
          "output_type": "execute_result",
          "data": {
            "text/plain": [
              "(51827, 9)"
            ]
          },
          "metadata": {},
          "execution_count": 7
        }
      ],
      "source": [
        "#imprimo las dimensiones del dataset. \n",
        "london.shape"
      ]
    },
    {
      "cell_type": "code",
      "execution_count": 8,
      "metadata": {
        "id": "Jed0kvKrgSo5"
      },
      "outputs": [],
      "source": [
        "#elimino la columna Unnamed:0\n",
        "london = london.drop(['Unnamed: 0'], axis=1)"
      ]
    },
    {
      "cell_type": "code",
      "execution_count": 9,
      "metadata": {
        "colab": {
          "base_uri": "https://localhost:8080/",
          "height": 206
        },
        "id": "twxj14iJiAAW",
        "outputId": "0b9d961d-f406-476b-cca9-c1b1439896ed"
      },
      "outputs": [
        {
          "output_type": "execute_result",
          "data": {
            "text/plain": [
              "   neighbourhood        room_type  price  minimum_nights  number_of_reviews  \\\n",
              "0       Haringey     Private room     35               1                131   \n",
              "1         Ealing     Private room     70               2                  2   \n",
              "2      Islington     Private room     45               1                 14   \n",
              "3  Tower Hamlets  Entire home/apt    102               5                  7   \n",
              "4         Barnet     Private room     29               5                114   \n",
              "\n",
              "   reviews_per_month  calculated_host_listings_count  availability_365  \n",
              "0               1.71                               4               262  \n",
              "1               0.07                               6                62  \n",
              "2               0.14                               2               364  \n",
              "3               0.07                              56               295  \n",
              "4               1.13                               3               285  "
            ],
            "text/html": [
              "\n",
              "  <div id=\"df-4187fc29-4dee-4a3d-aa4b-05662a2d328f\">\n",
              "    <div class=\"colab-df-container\">\n",
              "      <div>\n",
              "<style scoped>\n",
              "    .dataframe tbody tr th:only-of-type {\n",
              "        vertical-align: middle;\n",
              "    }\n",
              "\n",
              "    .dataframe tbody tr th {\n",
              "        vertical-align: top;\n",
              "    }\n",
              "\n",
              "    .dataframe thead th {\n",
              "        text-align: right;\n",
              "    }\n",
              "</style>\n",
              "<table border=\"1\" class=\"dataframe\">\n",
              "  <thead>\n",
              "    <tr style=\"text-align: right;\">\n",
              "      <th></th>\n",
              "      <th>neighbourhood</th>\n",
              "      <th>room_type</th>\n",
              "      <th>price</th>\n",
              "      <th>minimum_nights</th>\n",
              "      <th>number_of_reviews</th>\n",
              "      <th>reviews_per_month</th>\n",
              "      <th>calculated_host_listings_count</th>\n",
              "      <th>availability_365</th>\n",
              "    </tr>\n",
              "  </thead>\n",
              "  <tbody>\n",
              "    <tr>\n",
              "      <th>0</th>\n",
              "      <td>Haringey</td>\n",
              "      <td>Private room</td>\n",
              "      <td>35</td>\n",
              "      <td>1</td>\n",
              "      <td>131</td>\n",
              "      <td>1.71</td>\n",
              "      <td>4</td>\n",
              "      <td>262</td>\n",
              "    </tr>\n",
              "    <tr>\n",
              "      <th>1</th>\n",
              "      <td>Ealing</td>\n",
              "      <td>Private room</td>\n",
              "      <td>70</td>\n",
              "      <td>2</td>\n",
              "      <td>2</td>\n",
              "      <td>0.07</td>\n",
              "      <td>6</td>\n",
              "      <td>62</td>\n",
              "    </tr>\n",
              "    <tr>\n",
              "      <th>2</th>\n",
              "      <td>Islington</td>\n",
              "      <td>Private room</td>\n",
              "      <td>45</td>\n",
              "      <td>1</td>\n",
              "      <td>14</td>\n",
              "      <td>0.14</td>\n",
              "      <td>2</td>\n",
              "      <td>364</td>\n",
              "    </tr>\n",
              "    <tr>\n",
              "      <th>3</th>\n",
              "      <td>Tower Hamlets</td>\n",
              "      <td>Entire home/apt</td>\n",
              "      <td>102</td>\n",
              "      <td>5</td>\n",
              "      <td>7</td>\n",
              "      <td>0.07</td>\n",
              "      <td>56</td>\n",
              "      <td>295</td>\n",
              "    </tr>\n",
              "    <tr>\n",
              "      <th>4</th>\n",
              "      <td>Barnet</td>\n",
              "      <td>Private room</td>\n",
              "      <td>29</td>\n",
              "      <td>5</td>\n",
              "      <td>114</td>\n",
              "      <td>1.13</td>\n",
              "      <td>3</td>\n",
              "      <td>285</td>\n",
              "    </tr>\n",
              "  </tbody>\n",
              "</table>\n",
              "</div>\n",
              "      <button class=\"colab-df-convert\" onclick=\"convertToInteractive('df-4187fc29-4dee-4a3d-aa4b-05662a2d328f')\"\n",
              "              title=\"Convert this dataframe to an interactive table.\"\n",
              "              style=\"display:none;\">\n",
              "        \n",
              "  <svg xmlns=\"http://www.w3.org/2000/svg\" height=\"24px\"viewBox=\"0 0 24 24\"\n",
              "       width=\"24px\">\n",
              "    <path d=\"M0 0h24v24H0V0z\" fill=\"none\"/>\n",
              "    <path d=\"M18.56 5.44l.94 2.06.94-2.06 2.06-.94-2.06-.94-.94-2.06-.94 2.06-2.06.94zm-11 1L8.5 8.5l.94-2.06 2.06-.94-2.06-.94L8.5 2.5l-.94 2.06-2.06.94zm10 10l.94 2.06.94-2.06 2.06-.94-2.06-.94-.94-2.06-.94 2.06-2.06.94z\"/><path d=\"M17.41 7.96l-1.37-1.37c-.4-.4-.92-.59-1.43-.59-.52 0-1.04.2-1.43.59L10.3 9.45l-7.72 7.72c-.78.78-.78 2.05 0 2.83L4 21.41c.39.39.9.59 1.41.59.51 0 1.02-.2 1.41-.59l7.78-7.78 2.81-2.81c.8-.78.8-2.07 0-2.86zM5.41 20L4 18.59l7.72-7.72 1.47 1.35L5.41 20z\"/>\n",
              "  </svg>\n",
              "      </button>\n",
              "      \n",
              "  <style>\n",
              "    .colab-df-container {\n",
              "      display:flex;\n",
              "      flex-wrap:wrap;\n",
              "      gap: 12px;\n",
              "    }\n",
              "\n",
              "    .colab-df-convert {\n",
              "      background-color: #E8F0FE;\n",
              "      border: none;\n",
              "      border-radius: 50%;\n",
              "      cursor: pointer;\n",
              "      display: none;\n",
              "      fill: #1967D2;\n",
              "      height: 32px;\n",
              "      padding: 0 0 0 0;\n",
              "      width: 32px;\n",
              "    }\n",
              "\n",
              "    .colab-df-convert:hover {\n",
              "      background-color: #E2EBFA;\n",
              "      box-shadow: 0px 1px 2px rgba(60, 64, 67, 0.3), 0px 1px 3px 1px rgba(60, 64, 67, 0.15);\n",
              "      fill: #174EA6;\n",
              "    }\n",
              "\n",
              "    [theme=dark] .colab-df-convert {\n",
              "      background-color: #3B4455;\n",
              "      fill: #D2E3FC;\n",
              "    }\n",
              "\n",
              "    [theme=dark] .colab-df-convert:hover {\n",
              "      background-color: #434B5C;\n",
              "      box-shadow: 0px 1px 3px 1px rgba(0, 0, 0, 0.15);\n",
              "      filter: drop-shadow(0px 1px 2px rgba(0, 0, 0, 0.3));\n",
              "      fill: #FFFFFF;\n",
              "    }\n",
              "  </style>\n",
              "\n",
              "      <script>\n",
              "        const buttonEl =\n",
              "          document.querySelector('#df-4187fc29-4dee-4a3d-aa4b-05662a2d328f button.colab-df-convert');\n",
              "        buttonEl.style.display =\n",
              "          google.colab.kernel.accessAllowed ? 'block' : 'none';\n",
              "\n",
              "        async function convertToInteractive(key) {\n",
              "          const element = document.querySelector('#df-4187fc29-4dee-4a3d-aa4b-05662a2d328f');\n",
              "          const dataTable =\n",
              "            await google.colab.kernel.invokeFunction('convertToInteractive',\n",
              "                                                     [key], {});\n",
              "          if (!dataTable) return;\n",
              "\n",
              "          const docLinkHtml = 'Like what you see? Visit the ' +\n",
              "            '<a target=\"_blank\" href=https://colab.research.google.com/notebooks/data_table.ipynb>data table notebook</a>'\n",
              "            + ' to learn more about interactive tables.';\n",
              "          element.innerHTML = '';\n",
              "          dataTable['output_type'] = 'display_data';\n",
              "          await google.colab.output.renderOutput(dataTable, element);\n",
              "          const docLink = document.createElement('div');\n",
              "          docLink.innerHTML = docLinkHtml;\n",
              "          element.appendChild(docLink);\n",
              "        }\n",
              "      </script>\n",
              "    </div>\n",
              "  </div>\n",
              "  "
            ]
          },
          "metadata": {},
          "execution_count": 9
        }
      ],
      "source": [
        "#muestro las primeras lineas del dataset london\n",
        "london.head()"
      ]
    },
    {
      "cell_type": "markdown",
      "metadata": {
        "id": "i6rbeiRvkuX8"
      },
      "source": [
        "##### **Objetivo 3**\n",
        "Corroborar que el dataset no cuenta con valores nulos, si los hubiera llenarlos todos con 0."
      ]
    },
    {
      "cell_type": "code",
      "execution_count": 10,
      "metadata": {
        "colab": {
          "base_uri": "https://localhost:8080/"
        },
        "id": "huJVDzyTkuX8",
        "outputId": "8de754b5-5fa0-4eae-94b6-3ad919303554"
      },
      "outputs": [
        {
          "output_type": "execute_result",
          "data": {
            "text/plain": [
              "neighbourhood                     False\n",
              "room_type                         False\n",
              "price                             False\n",
              "minimum_nights                    False\n",
              "number_of_reviews                 False\n",
              "reviews_per_month                 False\n",
              "calculated_host_listings_count    False\n",
              "availability_365                  False\n",
              "dtype: bool"
            ]
          },
          "metadata": {},
          "execution_count": 10
        }
      ],
      "source": [
        "#verifico que el dataset no cuenta con valores nulos\n",
        "london.isnull().any()"
      ]
    },
    {
      "cell_type": "markdown",
      "metadata": {
        "id": "J5K3hnLhkuX9"
      },
      "source": [
        "##### **Objetivo 4**\n",
        "Mostrar el tipo de dato para las variables \"neighbourhood\" y \"room_type\"."
      ]
    },
    {
      "cell_type": "code",
      "execution_count": 11,
      "metadata": {
        "colab": {
          "base_uri": "https://localhost:8080/"
        },
        "id": "buyjxSDNkuX-",
        "outputId": "f1d1ece6-7fe9-4d27-afcb-927c26d79f38"
      },
      "outputs": [
        {
          "output_type": "execute_result",
          "data": {
            "text/plain": [
              "dtype('O')"
            ]
          },
          "metadata": {},
          "execution_count": 11
        }
      ],
      "source": [
        "#muestro el tipo de dato  neighbourhood\n",
        "london['neighbourhood'].dtype\n"
      ]
    },
    {
      "cell_type": "code",
      "execution_count": 12,
      "metadata": {
        "colab": {
          "base_uri": "https://localhost:8080/"
        },
        "id": "8v2MREl0j0mU",
        "outputId": "8277e14e-cd3d-4c39-aa5d-edf306a8c030"
      },
      "outputs": [
        {
          "output_type": "execute_result",
          "data": {
            "text/plain": [
              "dtype('O')"
            ]
          },
          "metadata": {},
          "execution_count": 12
        }
      ],
      "source": [
        "#muestro el tipo de dato room_type\n",
        "london['room_type'].dtype"
      ]
    },
    {
      "cell_type": "code",
      "execution_count": 13,
      "metadata": {
        "id": "zpN5bVz2k_xJ"
      },
      "outputs": [],
      "source": [
        "#Un tipo ‘O’ solo significa “objeto” que en el mundo de Pandas es una secuencia de caracteres (texto)."
      ]
    },
    {
      "cell_type": "markdown",
      "metadata": {
        "id": "-Pif7gnqkuX-"
      },
      "source": [
        "##### **Objetivo 5**\n",
        "Generar las variables dummies para estas dos variables categóricas y unirlas al dataset london.\n"
      ]
    },
    {
      "cell_type": "code",
      "execution_count": 14,
      "metadata": {
        "id": "WQ2GszPKNfhI"
      },
      "outputs": [],
      "source": [
        "# Genero las dummies para la variable neighbourhood, dentro de la variable neigh_dummies.\n",
        "neigh_dummies = pd.get_dummies(london.neighbourhood)"
      ]
    },
    {
      "cell_type": "markdown",
      "metadata": {
        "id": "D9raTKcGNfhJ"
      },
      "source": [
        "Imprimir las dimensiones y primeras lineas de estas dummies"
      ]
    },
    {
      "cell_type": "code",
      "execution_count": 15,
      "metadata": {
        "colab": {
          "base_uri": "https://localhost:8080/"
        },
        "id": "x5aYhwWcNfhJ",
        "outputId": "5427d863-892d-42ce-b91f-0309239c8b26"
      },
      "outputs": [
        {
          "output_type": "execute_result",
          "data": {
            "text/plain": [
              "(51827, 33)"
            ]
          },
          "metadata": {},
          "execution_count": 15
        }
      ],
      "source": [
        "#imprimo la dimension y las primeras lineas de las dummnies\n",
        "neigh_dummies.shape"
      ]
    },
    {
      "cell_type": "code",
      "execution_count": 16,
      "metadata": {
        "colab": {
          "base_uri": "https://localhost:8080/",
          "height": 334
        },
        "id": "ehoVgr9NNfhJ",
        "outputId": "080b056b-7c09-4fb2-fb03-53bd6f23b983"
      },
      "outputs": [
        {
          "output_type": "execute_result",
          "data": {
            "text/plain": [
              "   Barking and Dagenham  Barnet  Bexley  Brent  Bromley  Camden  \\\n",
              "0                     0       0       0      0        0       0   \n",
              "1                     0       0       0      0        0       0   \n",
              "2                     0       0       0      0        0       0   \n",
              "3                     0       0       0      0        0       0   \n",
              "4                     0       1       0      0        0       0   \n",
              "\n",
              "   City of London  Croydon  Ealing  Enfield  ...  Merton  Newham  Redbridge  \\\n",
              "0               0        0       0        0  ...       0       0          0   \n",
              "1               0        0       1        0  ...       0       0          0   \n",
              "2               0        0       0        0  ...       0       0          0   \n",
              "3               0        0       0        0  ...       0       0          0   \n",
              "4               0        0       0        0  ...       0       0          0   \n",
              "\n",
              "   Richmond upon Thames  Southwark  Sutton  Tower Hamlets  Waltham Forest  \\\n",
              "0                     0          0       0              0               0   \n",
              "1                     0          0       0              0               0   \n",
              "2                     0          0       0              0               0   \n",
              "3                     0          0       0              1               0   \n",
              "4                     0          0       0              0               0   \n",
              "\n",
              "   Wandsworth  Westminster  \n",
              "0           0            0  \n",
              "1           0            0  \n",
              "2           0            0  \n",
              "3           0            0  \n",
              "4           0            0  \n",
              "\n",
              "[5 rows x 33 columns]"
            ],
            "text/html": [
              "\n",
              "  <div id=\"df-2c3b8f1b-2ab5-46bb-98e8-44ddf1b62d37\">\n",
              "    <div class=\"colab-df-container\">\n",
              "      <div>\n",
              "<style scoped>\n",
              "    .dataframe tbody tr th:only-of-type {\n",
              "        vertical-align: middle;\n",
              "    }\n",
              "\n",
              "    .dataframe tbody tr th {\n",
              "        vertical-align: top;\n",
              "    }\n",
              "\n",
              "    .dataframe thead th {\n",
              "        text-align: right;\n",
              "    }\n",
              "</style>\n",
              "<table border=\"1\" class=\"dataframe\">\n",
              "  <thead>\n",
              "    <tr style=\"text-align: right;\">\n",
              "      <th></th>\n",
              "      <th>Barking and Dagenham</th>\n",
              "      <th>Barnet</th>\n",
              "      <th>Bexley</th>\n",
              "      <th>Brent</th>\n",
              "      <th>Bromley</th>\n",
              "      <th>Camden</th>\n",
              "      <th>City of London</th>\n",
              "      <th>Croydon</th>\n",
              "      <th>Ealing</th>\n",
              "      <th>Enfield</th>\n",
              "      <th>...</th>\n",
              "      <th>Merton</th>\n",
              "      <th>Newham</th>\n",
              "      <th>Redbridge</th>\n",
              "      <th>Richmond upon Thames</th>\n",
              "      <th>Southwark</th>\n",
              "      <th>Sutton</th>\n",
              "      <th>Tower Hamlets</th>\n",
              "      <th>Waltham Forest</th>\n",
              "      <th>Wandsworth</th>\n",
              "      <th>Westminster</th>\n",
              "    </tr>\n",
              "  </thead>\n",
              "  <tbody>\n",
              "    <tr>\n",
              "      <th>0</th>\n",
              "      <td>0</td>\n",
              "      <td>0</td>\n",
              "      <td>0</td>\n",
              "      <td>0</td>\n",
              "      <td>0</td>\n",
              "      <td>0</td>\n",
              "      <td>0</td>\n",
              "      <td>0</td>\n",
              "      <td>0</td>\n",
              "      <td>0</td>\n",
              "      <td>...</td>\n",
              "      <td>0</td>\n",
              "      <td>0</td>\n",
              "      <td>0</td>\n",
              "      <td>0</td>\n",
              "      <td>0</td>\n",
              "      <td>0</td>\n",
              "      <td>0</td>\n",
              "      <td>0</td>\n",
              "      <td>0</td>\n",
              "      <td>0</td>\n",
              "    </tr>\n",
              "    <tr>\n",
              "      <th>1</th>\n",
              "      <td>0</td>\n",
              "      <td>0</td>\n",
              "      <td>0</td>\n",
              "      <td>0</td>\n",
              "      <td>0</td>\n",
              "      <td>0</td>\n",
              "      <td>0</td>\n",
              "      <td>0</td>\n",
              "      <td>1</td>\n",
              "      <td>0</td>\n",
              "      <td>...</td>\n",
              "      <td>0</td>\n",
              "      <td>0</td>\n",
              "      <td>0</td>\n",
              "      <td>0</td>\n",
              "      <td>0</td>\n",
              "      <td>0</td>\n",
              "      <td>0</td>\n",
              "      <td>0</td>\n",
              "      <td>0</td>\n",
              "      <td>0</td>\n",
              "    </tr>\n",
              "    <tr>\n",
              "      <th>2</th>\n",
              "      <td>0</td>\n",
              "      <td>0</td>\n",
              "      <td>0</td>\n",
              "      <td>0</td>\n",
              "      <td>0</td>\n",
              "      <td>0</td>\n",
              "      <td>0</td>\n",
              "      <td>0</td>\n",
              "      <td>0</td>\n",
              "      <td>0</td>\n",
              "      <td>...</td>\n",
              "      <td>0</td>\n",
              "      <td>0</td>\n",
              "      <td>0</td>\n",
              "      <td>0</td>\n",
              "      <td>0</td>\n",
              "      <td>0</td>\n",
              "      <td>0</td>\n",
              "      <td>0</td>\n",
              "      <td>0</td>\n",
              "      <td>0</td>\n",
              "    </tr>\n",
              "    <tr>\n",
              "      <th>3</th>\n",
              "      <td>0</td>\n",
              "      <td>0</td>\n",
              "      <td>0</td>\n",
              "      <td>0</td>\n",
              "      <td>0</td>\n",
              "      <td>0</td>\n",
              "      <td>0</td>\n",
              "      <td>0</td>\n",
              "      <td>0</td>\n",
              "      <td>0</td>\n",
              "      <td>...</td>\n",
              "      <td>0</td>\n",
              "      <td>0</td>\n",
              "      <td>0</td>\n",
              "      <td>0</td>\n",
              "      <td>0</td>\n",
              "      <td>0</td>\n",
              "      <td>1</td>\n",
              "      <td>0</td>\n",
              "      <td>0</td>\n",
              "      <td>0</td>\n",
              "    </tr>\n",
              "    <tr>\n",
              "      <th>4</th>\n",
              "      <td>0</td>\n",
              "      <td>1</td>\n",
              "      <td>0</td>\n",
              "      <td>0</td>\n",
              "      <td>0</td>\n",
              "      <td>0</td>\n",
              "      <td>0</td>\n",
              "      <td>0</td>\n",
              "      <td>0</td>\n",
              "      <td>0</td>\n",
              "      <td>...</td>\n",
              "      <td>0</td>\n",
              "      <td>0</td>\n",
              "      <td>0</td>\n",
              "      <td>0</td>\n",
              "      <td>0</td>\n",
              "      <td>0</td>\n",
              "      <td>0</td>\n",
              "      <td>0</td>\n",
              "      <td>0</td>\n",
              "      <td>0</td>\n",
              "    </tr>\n",
              "  </tbody>\n",
              "</table>\n",
              "<p>5 rows × 33 columns</p>\n",
              "</div>\n",
              "      <button class=\"colab-df-convert\" onclick=\"convertToInteractive('df-2c3b8f1b-2ab5-46bb-98e8-44ddf1b62d37')\"\n",
              "              title=\"Convert this dataframe to an interactive table.\"\n",
              "              style=\"display:none;\">\n",
              "        \n",
              "  <svg xmlns=\"http://www.w3.org/2000/svg\" height=\"24px\"viewBox=\"0 0 24 24\"\n",
              "       width=\"24px\">\n",
              "    <path d=\"M0 0h24v24H0V0z\" fill=\"none\"/>\n",
              "    <path d=\"M18.56 5.44l.94 2.06.94-2.06 2.06-.94-2.06-.94-.94-2.06-.94 2.06-2.06.94zm-11 1L8.5 8.5l.94-2.06 2.06-.94-2.06-.94L8.5 2.5l-.94 2.06-2.06.94zm10 10l.94 2.06.94-2.06 2.06-.94-2.06-.94-.94-2.06-.94 2.06-2.06.94z\"/><path d=\"M17.41 7.96l-1.37-1.37c-.4-.4-.92-.59-1.43-.59-.52 0-1.04.2-1.43.59L10.3 9.45l-7.72 7.72c-.78.78-.78 2.05 0 2.83L4 21.41c.39.39.9.59 1.41.59.51 0 1.02-.2 1.41-.59l7.78-7.78 2.81-2.81c.8-.78.8-2.07 0-2.86zM5.41 20L4 18.59l7.72-7.72 1.47 1.35L5.41 20z\"/>\n",
              "  </svg>\n",
              "      </button>\n",
              "      \n",
              "  <style>\n",
              "    .colab-df-container {\n",
              "      display:flex;\n",
              "      flex-wrap:wrap;\n",
              "      gap: 12px;\n",
              "    }\n",
              "\n",
              "    .colab-df-convert {\n",
              "      background-color: #E8F0FE;\n",
              "      border: none;\n",
              "      border-radius: 50%;\n",
              "      cursor: pointer;\n",
              "      display: none;\n",
              "      fill: #1967D2;\n",
              "      height: 32px;\n",
              "      padding: 0 0 0 0;\n",
              "      width: 32px;\n",
              "    }\n",
              "\n",
              "    .colab-df-convert:hover {\n",
              "      background-color: #E2EBFA;\n",
              "      box-shadow: 0px 1px 2px rgba(60, 64, 67, 0.3), 0px 1px 3px 1px rgba(60, 64, 67, 0.15);\n",
              "      fill: #174EA6;\n",
              "    }\n",
              "\n",
              "    [theme=dark] .colab-df-convert {\n",
              "      background-color: #3B4455;\n",
              "      fill: #D2E3FC;\n",
              "    }\n",
              "\n",
              "    [theme=dark] .colab-df-convert:hover {\n",
              "      background-color: #434B5C;\n",
              "      box-shadow: 0px 1px 3px 1px rgba(0, 0, 0, 0.15);\n",
              "      filter: drop-shadow(0px 1px 2px rgba(0, 0, 0, 0.3));\n",
              "      fill: #FFFFFF;\n",
              "    }\n",
              "  </style>\n",
              "\n",
              "      <script>\n",
              "        const buttonEl =\n",
              "          document.querySelector('#df-2c3b8f1b-2ab5-46bb-98e8-44ddf1b62d37 button.colab-df-convert');\n",
              "        buttonEl.style.display =\n",
              "          google.colab.kernel.accessAllowed ? 'block' : 'none';\n",
              "\n",
              "        async function convertToInteractive(key) {\n",
              "          const element = document.querySelector('#df-2c3b8f1b-2ab5-46bb-98e8-44ddf1b62d37');\n",
              "          const dataTable =\n",
              "            await google.colab.kernel.invokeFunction('convertToInteractive',\n",
              "                                                     [key], {});\n",
              "          if (!dataTable) return;\n",
              "\n",
              "          const docLinkHtml = 'Like what you see? Visit the ' +\n",
              "            '<a target=\"_blank\" href=https://colab.research.google.com/notebooks/data_table.ipynb>data table notebook</a>'\n",
              "            + ' to learn more about interactive tables.';\n",
              "          element.innerHTML = '';\n",
              "          dataTable['output_type'] = 'display_data';\n",
              "          await google.colab.output.renderOutput(dataTable, element);\n",
              "          const docLink = document.createElement('div');\n",
              "          docLink.innerHTML = docLinkHtml;\n",
              "          element.appendChild(docLink);\n",
              "        }\n",
              "      </script>\n",
              "    </div>\n",
              "  </div>\n",
              "  "
            ]
          },
          "metadata": {},
          "execution_count": 16
        }
      ],
      "source": [
        "#muestro la variable\n",
        "neigh_dummies.head()"
      ]
    },
    {
      "cell_type": "code",
      "execution_count": 17,
      "metadata": {
        "id": "qdGPJ4tONfhJ"
      },
      "outputs": [],
      "source": [
        "# Genero las dummies para la variable room_type, dentro de la variable room_dummies.\n",
        "room_dummies =pd.get_dummies(london.room_type)"
      ]
    },
    {
      "cell_type": "markdown",
      "metadata": {
        "id": "lDHhvq4_NfhJ"
      },
      "source": [
        "Imprimir las dimensiones y primeras lineas de estas dummies"
      ]
    },
    {
      "cell_type": "code",
      "execution_count": 18,
      "metadata": {
        "colab": {
          "base_uri": "https://localhost:8080/"
        },
        "id": "ssP3nFUcNfhJ",
        "outputId": "4bb9b445-3eed-4f66-eb1b-ad2d6054468e"
      },
      "outputs": [
        {
          "output_type": "execute_result",
          "data": {
            "text/plain": [
              "(51827, 3)"
            ]
          },
          "metadata": {},
          "execution_count": 18
        }
      ],
      "source": [
        "\n",
        "#imprimo la dimension y muestro las primeras lineas\n",
        "room_dummies.shape"
      ]
    },
    {
      "cell_type": "code",
      "execution_count": 19,
      "metadata": {
        "colab": {
          "base_uri": "https://localhost:8080/",
          "height": 206
        },
        "id": "jmB-t-3hNfhK",
        "outputId": "bf8705c2-820f-4072-f84e-b74a4c91026b"
      },
      "outputs": [
        {
          "output_type": "execute_result",
          "data": {
            "text/plain": [
              "   Entire home/apt  Private room  Shared room\n",
              "0                0             1            0\n",
              "1                0             1            0\n",
              "2                0             1            0\n",
              "3                1             0            0\n",
              "4                0             1            0"
            ],
            "text/html": [
              "\n",
              "  <div id=\"df-773f5c12-525b-4678-afad-4bb759250498\">\n",
              "    <div class=\"colab-df-container\">\n",
              "      <div>\n",
              "<style scoped>\n",
              "    .dataframe tbody tr th:only-of-type {\n",
              "        vertical-align: middle;\n",
              "    }\n",
              "\n",
              "    .dataframe tbody tr th {\n",
              "        vertical-align: top;\n",
              "    }\n",
              "\n",
              "    .dataframe thead th {\n",
              "        text-align: right;\n",
              "    }\n",
              "</style>\n",
              "<table border=\"1\" class=\"dataframe\">\n",
              "  <thead>\n",
              "    <tr style=\"text-align: right;\">\n",
              "      <th></th>\n",
              "      <th>Entire home/apt</th>\n",
              "      <th>Private room</th>\n",
              "      <th>Shared room</th>\n",
              "    </tr>\n",
              "  </thead>\n",
              "  <tbody>\n",
              "    <tr>\n",
              "      <th>0</th>\n",
              "      <td>0</td>\n",
              "      <td>1</td>\n",
              "      <td>0</td>\n",
              "    </tr>\n",
              "    <tr>\n",
              "      <th>1</th>\n",
              "      <td>0</td>\n",
              "      <td>1</td>\n",
              "      <td>0</td>\n",
              "    </tr>\n",
              "    <tr>\n",
              "      <th>2</th>\n",
              "      <td>0</td>\n",
              "      <td>1</td>\n",
              "      <td>0</td>\n",
              "    </tr>\n",
              "    <tr>\n",
              "      <th>3</th>\n",
              "      <td>1</td>\n",
              "      <td>0</td>\n",
              "      <td>0</td>\n",
              "    </tr>\n",
              "    <tr>\n",
              "      <th>4</th>\n",
              "      <td>0</td>\n",
              "      <td>1</td>\n",
              "      <td>0</td>\n",
              "    </tr>\n",
              "  </tbody>\n",
              "</table>\n",
              "</div>\n",
              "      <button class=\"colab-df-convert\" onclick=\"convertToInteractive('df-773f5c12-525b-4678-afad-4bb759250498')\"\n",
              "              title=\"Convert this dataframe to an interactive table.\"\n",
              "              style=\"display:none;\">\n",
              "        \n",
              "  <svg xmlns=\"http://www.w3.org/2000/svg\" height=\"24px\"viewBox=\"0 0 24 24\"\n",
              "       width=\"24px\">\n",
              "    <path d=\"M0 0h24v24H0V0z\" fill=\"none\"/>\n",
              "    <path d=\"M18.56 5.44l.94 2.06.94-2.06 2.06-.94-2.06-.94-.94-2.06-.94 2.06-2.06.94zm-11 1L8.5 8.5l.94-2.06 2.06-.94-2.06-.94L8.5 2.5l-.94 2.06-2.06.94zm10 10l.94 2.06.94-2.06 2.06-.94-2.06-.94-.94-2.06-.94 2.06-2.06.94z\"/><path d=\"M17.41 7.96l-1.37-1.37c-.4-.4-.92-.59-1.43-.59-.52 0-1.04.2-1.43.59L10.3 9.45l-7.72 7.72c-.78.78-.78 2.05 0 2.83L4 21.41c.39.39.9.59 1.41.59.51 0 1.02-.2 1.41-.59l7.78-7.78 2.81-2.81c.8-.78.8-2.07 0-2.86zM5.41 20L4 18.59l7.72-7.72 1.47 1.35L5.41 20z\"/>\n",
              "  </svg>\n",
              "      </button>\n",
              "      \n",
              "  <style>\n",
              "    .colab-df-container {\n",
              "      display:flex;\n",
              "      flex-wrap:wrap;\n",
              "      gap: 12px;\n",
              "    }\n",
              "\n",
              "    .colab-df-convert {\n",
              "      background-color: #E8F0FE;\n",
              "      border: none;\n",
              "      border-radius: 50%;\n",
              "      cursor: pointer;\n",
              "      display: none;\n",
              "      fill: #1967D2;\n",
              "      height: 32px;\n",
              "      padding: 0 0 0 0;\n",
              "      width: 32px;\n",
              "    }\n",
              "\n",
              "    .colab-df-convert:hover {\n",
              "      background-color: #E2EBFA;\n",
              "      box-shadow: 0px 1px 2px rgba(60, 64, 67, 0.3), 0px 1px 3px 1px rgba(60, 64, 67, 0.15);\n",
              "      fill: #174EA6;\n",
              "    }\n",
              "\n",
              "    [theme=dark] .colab-df-convert {\n",
              "      background-color: #3B4455;\n",
              "      fill: #D2E3FC;\n",
              "    }\n",
              "\n",
              "    [theme=dark] .colab-df-convert:hover {\n",
              "      background-color: #434B5C;\n",
              "      box-shadow: 0px 1px 3px 1px rgba(0, 0, 0, 0.15);\n",
              "      filter: drop-shadow(0px 1px 2px rgba(0, 0, 0, 0.3));\n",
              "      fill: #FFFFFF;\n",
              "    }\n",
              "  </style>\n",
              "\n",
              "      <script>\n",
              "        const buttonEl =\n",
              "          document.querySelector('#df-773f5c12-525b-4678-afad-4bb759250498 button.colab-df-convert');\n",
              "        buttonEl.style.display =\n",
              "          google.colab.kernel.accessAllowed ? 'block' : 'none';\n",
              "\n",
              "        async function convertToInteractive(key) {\n",
              "          const element = document.querySelector('#df-773f5c12-525b-4678-afad-4bb759250498');\n",
              "          const dataTable =\n",
              "            await google.colab.kernel.invokeFunction('convertToInteractive',\n",
              "                                                     [key], {});\n",
              "          if (!dataTable) return;\n",
              "\n",
              "          const docLinkHtml = 'Like what you see? Visit the ' +\n",
              "            '<a target=\"_blank\" href=https://colab.research.google.com/notebooks/data_table.ipynb>data table notebook</a>'\n",
              "            + ' to learn more about interactive tables.';\n",
              "          element.innerHTML = '';\n",
              "          dataTable['output_type'] = 'display_data';\n",
              "          await google.colab.output.renderOutput(dataTable, element);\n",
              "          const docLink = document.createElement('div');\n",
              "          docLink.innerHTML = docLinkHtml;\n",
              "          element.appendChild(docLink);\n",
              "        }\n",
              "      </script>\n",
              "    </div>\n",
              "  </div>\n",
              "  "
            ]
          },
          "metadata": {},
          "execution_count": 19
        }
      ],
      "source": [
        "room_dummies.head()"
      ]
    },
    {
      "cell_type": "markdown",
      "metadata": {
        "id": "c8CG_MEdkuX-"
      },
      "source": [
        "Joinear las variables dummies al dataset\n",
        "\n"
      ]
    },
    {
      "cell_type": "code",
      "execution_count": 20,
      "metadata": {
        "id": "3Q0w7z_uNfhK"
      },
      "outputs": [],
      "source": [
        "#agrego al dataset London , las nuevas variables dummnies\n",
        "london = london.join(room_dummies)"
      ]
    },
    {
      "cell_type": "code",
      "execution_count": 21,
      "metadata": {
        "id": "xpc2UgAguMKv"
      },
      "outputs": [],
      "source": [
        "london = london.join(neigh_dummies)"
      ]
    },
    {
      "cell_type": "code",
      "execution_count": 22,
      "metadata": {
        "colab": {
          "base_uri": "https://localhost:8080/",
          "height": 421
        },
        "id": "6_yxtvmfuadk",
        "outputId": "5b4dbf1d-ef81-4cc5-f553-3804a8a899fd"
      },
      "outputs": [
        {
          "output_type": "execute_result",
          "data": {
            "text/plain": [
              "   neighbourhood        room_type  price  minimum_nights  number_of_reviews  \\\n",
              "0       Haringey     Private room     35               1                131   \n",
              "1         Ealing     Private room     70               2                  2   \n",
              "2      Islington     Private room     45               1                 14   \n",
              "3  Tower Hamlets  Entire home/apt    102               5                  7   \n",
              "4         Barnet     Private room     29               5                114   \n",
              "\n",
              "   reviews_per_month  calculated_host_listings_count  availability_365  \\\n",
              "0               1.71                               4               262   \n",
              "1               0.07                               6                62   \n",
              "2               0.14                               2               364   \n",
              "3               0.07                              56               295   \n",
              "4               1.13                               3               285   \n",
              "\n",
              "   Entire home/apt  Private room  ...  Merton  Newham  Redbridge  \\\n",
              "0                0             1  ...       0       0          0   \n",
              "1                0             1  ...       0       0          0   \n",
              "2                0             1  ...       0       0          0   \n",
              "3                1             0  ...       0       0          0   \n",
              "4                0             1  ...       0       0          0   \n",
              "\n",
              "   Richmond upon Thames  Southwark  Sutton  Tower Hamlets  Waltham Forest  \\\n",
              "0                     0          0       0              0               0   \n",
              "1                     0          0       0              0               0   \n",
              "2                     0          0       0              0               0   \n",
              "3                     0          0       0              1               0   \n",
              "4                     0          0       0              0               0   \n",
              "\n",
              "   Wandsworth  Westminster  \n",
              "0           0            0  \n",
              "1           0            0  \n",
              "2           0            0  \n",
              "3           0            0  \n",
              "4           0            0  \n",
              "\n",
              "[5 rows x 44 columns]"
            ],
            "text/html": [
              "\n",
              "  <div id=\"df-ae8b5cbd-2c7d-4147-ba1a-2b19078bb013\">\n",
              "    <div class=\"colab-df-container\">\n",
              "      <div>\n",
              "<style scoped>\n",
              "    .dataframe tbody tr th:only-of-type {\n",
              "        vertical-align: middle;\n",
              "    }\n",
              "\n",
              "    .dataframe tbody tr th {\n",
              "        vertical-align: top;\n",
              "    }\n",
              "\n",
              "    .dataframe thead th {\n",
              "        text-align: right;\n",
              "    }\n",
              "</style>\n",
              "<table border=\"1\" class=\"dataframe\">\n",
              "  <thead>\n",
              "    <tr style=\"text-align: right;\">\n",
              "      <th></th>\n",
              "      <th>neighbourhood</th>\n",
              "      <th>room_type</th>\n",
              "      <th>price</th>\n",
              "      <th>minimum_nights</th>\n",
              "      <th>number_of_reviews</th>\n",
              "      <th>reviews_per_month</th>\n",
              "      <th>calculated_host_listings_count</th>\n",
              "      <th>availability_365</th>\n",
              "      <th>Entire home/apt</th>\n",
              "      <th>Private room</th>\n",
              "      <th>...</th>\n",
              "      <th>Merton</th>\n",
              "      <th>Newham</th>\n",
              "      <th>Redbridge</th>\n",
              "      <th>Richmond upon Thames</th>\n",
              "      <th>Southwark</th>\n",
              "      <th>Sutton</th>\n",
              "      <th>Tower Hamlets</th>\n",
              "      <th>Waltham Forest</th>\n",
              "      <th>Wandsworth</th>\n",
              "      <th>Westminster</th>\n",
              "    </tr>\n",
              "  </thead>\n",
              "  <tbody>\n",
              "    <tr>\n",
              "      <th>0</th>\n",
              "      <td>Haringey</td>\n",
              "      <td>Private room</td>\n",
              "      <td>35</td>\n",
              "      <td>1</td>\n",
              "      <td>131</td>\n",
              "      <td>1.71</td>\n",
              "      <td>4</td>\n",
              "      <td>262</td>\n",
              "      <td>0</td>\n",
              "      <td>1</td>\n",
              "      <td>...</td>\n",
              "      <td>0</td>\n",
              "      <td>0</td>\n",
              "      <td>0</td>\n",
              "      <td>0</td>\n",
              "      <td>0</td>\n",
              "      <td>0</td>\n",
              "      <td>0</td>\n",
              "      <td>0</td>\n",
              "      <td>0</td>\n",
              "      <td>0</td>\n",
              "    </tr>\n",
              "    <tr>\n",
              "      <th>1</th>\n",
              "      <td>Ealing</td>\n",
              "      <td>Private room</td>\n",
              "      <td>70</td>\n",
              "      <td>2</td>\n",
              "      <td>2</td>\n",
              "      <td>0.07</td>\n",
              "      <td>6</td>\n",
              "      <td>62</td>\n",
              "      <td>0</td>\n",
              "      <td>1</td>\n",
              "      <td>...</td>\n",
              "      <td>0</td>\n",
              "      <td>0</td>\n",
              "      <td>0</td>\n",
              "      <td>0</td>\n",
              "      <td>0</td>\n",
              "      <td>0</td>\n",
              "      <td>0</td>\n",
              "      <td>0</td>\n",
              "      <td>0</td>\n",
              "      <td>0</td>\n",
              "    </tr>\n",
              "    <tr>\n",
              "      <th>2</th>\n",
              "      <td>Islington</td>\n",
              "      <td>Private room</td>\n",
              "      <td>45</td>\n",
              "      <td>1</td>\n",
              "      <td>14</td>\n",
              "      <td>0.14</td>\n",
              "      <td>2</td>\n",
              "      <td>364</td>\n",
              "      <td>0</td>\n",
              "      <td>1</td>\n",
              "      <td>...</td>\n",
              "      <td>0</td>\n",
              "      <td>0</td>\n",
              "      <td>0</td>\n",
              "      <td>0</td>\n",
              "      <td>0</td>\n",
              "      <td>0</td>\n",
              "      <td>0</td>\n",
              "      <td>0</td>\n",
              "      <td>0</td>\n",
              "      <td>0</td>\n",
              "    </tr>\n",
              "    <tr>\n",
              "      <th>3</th>\n",
              "      <td>Tower Hamlets</td>\n",
              "      <td>Entire home/apt</td>\n",
              "      <td>102</td>\n",
              "      <td>5</td>\n",
              "      <td>7</td>\n",
              "      <td>0.07</td>\n",
              "      <td>56</td>\n",
              "      <td>295</td>\n",
              "      <td>1</td>\n",
              "      <td>0</td>\n",
              "      <td>...</td>\n",
              "      <td>0</td>\n",
              "      <td>0</td>\n",
              "      <td>0</td>\n",
              "      <td>0</td>\n",
              "      <td>0</td>\n",
              "      <td>0</td>\n",
              "      <td>1</td>\n",
              "      <td>0</td>\n",
              "      <td>0</td>\n",
              "      <td>0</td>\n",
              "    </tr>\n",
              "    <tr>\n",
              "      <th>4</th>\n",
              "      <td>Barnet</td>\n",
              "      <td>Private room</td>\n",
              "      <td>29</td>\n",
              "      <td>5</td>\n",
              "      <td>114</td>\n",
              "      <td>1.13</td>\n",
              "      <td>3</td>\n",
              "      <td>285</td>\n",
              "      <td>0</td>\n",
              "      <td>1</td>\n",
              "      <td>...</td>\n",
              "      <td>0</td>\n",
              "      <td>0</td>\n",
              "      <td>0</td>\n",
              "      <td>0</td>\n",
              "      <td>0</td>\n",
              "      <td>0</td>\n",
              "      <td>0</td>\n",
              "      <td>0</td>\n",
              "      <td>0</td>\n",
              "      <td>0</td>\n",
              "    </tr>\n",
              "  </tbody>\n",
              "</table>\n",
              "<p>5 rows × 44 columns</p>\n",
              "</div>\n",
              "      <button class=\"colab-df-convert\" onclick=\"convertToInteractive('df-ae8b5cbd-2c7d-4147-ba1a-2b19078bb013')\"\n",
              "              title=\"Convert this dataframe to an interactive table.\"\n",
              "              style=\"display:none;\">\n",
              "        \n",
              "  <svg xmlns=\"http://www.w3.org/2000/svg\" height=\"24px\"viewBox=\"0 0 24 24\"\n",
              "       width=\"24px\">\n",
              "    <path d=\"M0 0h24v24H0V0z\" fill=\"none\"/>\n",
              "    <path d=\"M18.56 5.44l.94 2.06.94-2.06 2.06-.94-2.06-.94-.94-2.06-.94 2.06-2.06.94zm-11 1L8.5 8.5l.94-2.06 2.06-.94-2.06-.94L8.5 2.5l-.94 2.06-2.06.94zm10 10l.94 2.06.94-2.06 2.06-.94-2.06-.94-.94-2.06-.94 2.06-2.06.94z\"/><path d=\"M17.41 7.96l-1.37-1.37c-.4-.4-.92-.59-1.43-.59-.52 0-1.04.2-1.43.59L10.3 9.45l-7.72 7.72c-.78.78-.78 2.05 0 2.83L4 21.41c.39.39.9.59 1.41.59.51 0 1.02-.2 1.41-.59l7.78-7.78 2.81-2.81c.8-.78.8-2.07 0-2.86zM5.41 20L4 18.59l7.72-7.72 1.47 1.35L5.41 20z\"/>\n",
              "  </svg>\n",
              "      </button>\n",
              "      \n",
              "  <style>\n",
              "    .colab-df-container {\n",
              "      display:flex;\n",
              "      flex-wrap:wrap;\n",
              "      gap: 12px;\n",
              "    }\n",
              "\n",
              "    .colab-df-convert {\n",
              "      background-color: #E8F0FE;\n",
              "      border: none;\n",
              "      border-radius: 50%;\n",
              "      cursor: pointer;\n",
              "      display: none;\n",
              "      fill: #1967D2;\n",
              "      height: 32px;\n",
              "      padding: 0 0 0 0;\n",
              "      width: 32px;\n",
              "    }\n",
              "\n",
              "    .colab-df-convert:hover {\n",
              "      background-color: #E2EBFA;\n",
              "      box-shadow: 0px 1px 2px rgba(60, 64, 67, 0.3), 0px 1px 3px 1px rgba(60, 64, 67, 0.15);\n",
              "      fill: #174EA6;\n",
              "    }\n",
              "\n",
              "    [theme=dark] .colab-df-convert {\n",
              "      background-color: #3B4455;\n",
              "      fill: #D2E3FC;\n",
              "    }\n",
              "\n",
              "    [theme=dark] .colab-df-convert:hover {\n",
              "      background-color: #434B5C;\n",
              "      box-shadow: 0px 1px 3px 1px rgba(0, 0, 0, 0.15);\n",
              "      filter: drop-shadow(0px 1px 2px rgba(0, 0, 0, 0.3));\n",
              "      fill: #FFFFFF;\n",
              "    }\n",
              "  </style>\n",
              "\n",
              "      <script>\n",
              "        const buttonEl =\n",
              "          document.querySelector('#df-ae8b5cbd-2c7d-4147-ba1a-2b19078bb013 button.colab-df-convert');\n",
              "        buttonEl.style.display =\n",
              "          google.colab.kernel.accessAllowed ? 'block' : 'none';\n",
              "\n",
              "        async function convertToInteractive(key) {\n",
              "          const element = document.querySelector('#df-ae8b5cbd-2c7d-4147-ba1a-2b19078bb013');\n",
              "          const dataTable =\n",
              "            await google.colab.kernel.invokeFunction('convertToInteractive',\n",
              "                                                     [key], {});\n",
              "          if (!dataTable) return;\n",
              "\n",
              "          const docLinkHtml = 'Like what you see? Visit the ' +\n",
              "            '<a target=\"_blank\" href=https://colab.research.google.com/notebooks/data_table.ipynb>data table notebook</a>'\n",
              "            + ' to learn more about interactive tables.';\n",
              "          element.innerHTML = '';\n",
              "          dataTable['output_type'] = 'display_data';\n",
              "          await google.colab.output.renderOutput(dataTable, element);\n",
              "          const docLink = document.createElement('div');\n",
              "          docLink.innerHTML = docLinkHtml;\n",
              "          element.appendChild(docLink);\n",
              "        }\n",
              "      </script>\n",
              "    </div>\n",
              "  </div>\n",
              "  "
            ]
          },
          "metadata": {},
          "execution_count": 22
        }
      ],
      "source": [
        "london.head()"
      ]
    },
    {
      "cell_type": "markdown",
      "metadata": {
        "id": "qjPPQtG6kuX_"
      },
      "source": [
        "##### Dividiremos nuestro dataset en la variable dependiente \"y\" (label o etiqueta) y las variables independientes \"x\""
      ]
    },
    {
      "cell_type": "code",
      "execution_count": 23,
      "metadata": {
        "id": "1TZWtiVTkuX_"
      },
      "outputs": [],
      "source": [
        "#genero las variables y e x son valores del dataset\n",
        "y = np.array(london[[\"price\"]])\n",
        "x = london.drop([ 'price','neighbourhood','room_type'], axis=1)"
      ]
    },
    {
      "cell_type": "markdown",
      "metadata": {
        "id": "s-2ujF5MkuYA"
      },
      "source": [
        "##### **Objetivo 7**\n",
        "\n",
        "Dividir el dataset entre Train y Test, tomar un test_size del 30%."
      ]
    },
    {
      "cell_type": "code",
      "execution_count": 24,
      "metadata": {
        "id": "SBepVVKIkuYA"
      },
      "outputs": [],
      "source": [
        "# obtengo xtrain, xtest, ytr e ytest  tomando 30%\n",
        "xtrain, xte, ytr, yte = train_test_split(x, y, test_size=0.3, random_state=4)"
      ]
    },
    {
      "cell_type": "code",
      "execution_count": 25,
      "metadata": {
        "colab": {
          "base_uri": "https://localhost:8080/"
        },
        "id": "-EoxUF4IGUVo",
        "outputId": "8a7f9926-a5cb-41f9-bde1-62232ba87531"
      },
      "outputs": [
        {
          "output_type": "execute_result",
          "data": {
            "text/plain": [
              "(36278, 41)"
            ]
          },
          "metadata": {},
          "execution_count": 25
        }
      ],
      "source": [
        "# muestro la dimension xtrain\n",
        "xtrain.shape\n"
      ]
    },
    {
      "cell_type": "code",
      "execution_count": 26,
      "metadata": {
        "colab": {
          "base_uri": "https://localhost:8080/"
        },
        "id": "DAvFdP5bG2up",
        "outputId": "5dd01235-6ab9-4581-e057-73ebde06188a"
      },
      "outputs": [
        {
          "output_type": "execute_result",
          "data": {
            "text/plain": [
              "(15549, 41)"
            ]
          },
          "metadata": {},
          "execution_count": 26
        }
      ],
      "source": [
        "# veo como queda la matriz de xte\n",
        "xte.shape"
      ]
    },
    {
      "cell_type": "markdown",
      "metadata": {
        "id": "mfDnVu6hkuYB"
      },
      "source": [
        "##### **Objetivo 8**\n",
        "Con el StandardScaler generado en la linea siguiente, realizar el transform para el xtrain y xtest guardandolos en nuevas variables llamadas \"xtrain_scal\" y \"xtest_scal\".\n"
      ]
    },
    {
      "cell_type": "code",
      "execution_count": 27,
      "metadata": {
        "colab": {
          "base_uri": "https://localhost:8080/"
        },
        "id": "QgDYMr1qNfhL",
        "outputId": "0201c57a-8c12-4b5f-e4dc-ac9a51ea6dee"
      },
      "outputs": [
        {
          "output_type": "execute_result",
          "data": {
            "text/plain": [
              "StandardScaler()"
            ]
          },
          "metadata": {},
          "execution_count": 27
        }
      ],
      "source": [
        "scaler = preprocessing.StandardScaler().fit(xtrain)\n",
        "# declaro un standard scaler y lo ajusto a los datos de entrenamiento\n",
        "scaler"
      ]
    },
    {
      "cell_type": "code",
      "execution_count": 28,
      "metadata": {
        "id": "PTdTOdUANfhL"
      },
      "outputs": [],
      "source": [
        "# xtrain_scal tendra el dataset de train pre-procesado con el standard scaler\n",
        "xtrain_scal = scaler.transform(xtrain)"
      ]
    },
    {
      "cell_type": "code",
      "execution_count": 29,
      "metadata": {
        "id": "xJX0JJI7kuYC"
      },
      "outputs": [],
      "source": [
        "# auto scalo mis muestras de test utilizando el scaler fiteado con el xtrain\n",
        "xtest_scal = scaler.transform(xte)\n"
      ]
    },
    {
      "cell_type": "code",
      "source": [
        "xtrain_scal.shape\n"
      ],
      "metadata": {
        "colab": {
          "base_uri": "https://localhost:8080/"
        },
        "id": "jd_KqHCmfEnc",
        "outputId": "151489f8-e764-4044-93b4-37f8334482b5"
      },
      "execution_count": 30,
      "outputs": [
        {
          "output_type": "execute_result",
          "data": {
            "text/plain": [
              "(36278, 41)"
            ]
          },
          "metadata": {},
          "execution_count": 30
        }
      ]
    },
    {
      "cell_type": "code",
      "source": [
        "xtest_scal.shape"
      ],
      "metadata": {
        "colab": {
          "base_uri": "https://localhost:8080/"
        },
        "id": "hLn5RXIJfyiH",
        "outputId": "db9bf6f9-3c3e-4e6c-da91-016cb58b0ca8"
      },
      "execution_count": 31,
      "outputs": [
        {
          "output_type": "execute_result",
          "data": {
            "text/plain": [
              "(15549, 41)"
            ]
          },
          "metadata": {},
          "execution_count": 31
        }
      ]
    },
    {
      "cell_type": "markdown",
      "metadata": {
        "id": "_hkXK5_ckuYC"
      },
      "source": [
        "##### **Objetivo 9**\n",
        "Crear un modelo lineal y entrenarlo para nuestro dataset.\n",
        "\n",
        "Obtener las predicciones y el \"mean_squared_error\" para el test set."
      ]
    },
    {
      "cell_type": "code",
      "execution_count": 32,
      "metadata": {
        "id": "60x_-aowNfhM"
      },
      "outputs": [],
      "source": [
        "# creo un modelo de regresion lineal\n",
        "lr = LinearRegression()"
      ]
    },
    {
      "cell_type": "code",
      "execution_count": 33,
      "metadata": {
        "colab": {
          "base_uri": "https://localhost:8080/"
        },
        "id": "CNBZVUxjNfhM",
        "outputId": "5f13ab46-9c39-4cdf-8e25-7114c3a91aa9"
      },
      "outputs": [
        {
          "output_type": "execute_result",
          "data": {
            "text/plain": [
              "LinearRegression()"
            ]
          },
          "metadata": {},
          "execution_count": 33
        }
      ],
      "source": [
        "#  Ajusto el modelo de regresion lineal utilizando el set de train, tanto las features X como las samples Y\n",
        "lr.fit(xtrain_scal, ytr)"
      ]
    },
    {
      "cell_type": "code",
      "execution_count": 34,
      "metadata": {
        "id": "P8am8EVokuYD"
      },
      "outputs": [],
      "source": [
        "# Obtengo las predicciones que realiza mi modelo con las muestras de test, sin mostrarle las labels (Ytest)\n",
        "# las predicciones las guardo en el vector \"ypred\"\n",
        "ypred = lr.predict(xtest_scal)"
      ]
    },
    {
      "cell_type": "code",
      "execution_count": 35,
      "metadata": {
        "id": "lYChnTKDPLDQ",
        "colab": {
          "base_uri": "https://localhost:8080/"
        },
        "outputId": "d9c977f0-93db-4922-94e0-57c994511a57"
      },
      "outputs": [
        {
          "output_type": "execute_result",
          "data": {
            "text/plain": [
              "(15549, 1)"
            ]
          },
          "metadata": {},
          "execution_count": 35
        }
      ],
      "source": [
        "np.shape(ypred)\n"
      ]
    },
    {
      "cell_type": "code",
      "execution_count": 36,
      "metadata": {
        "colab": {
          "base_uri": "https://localhost:8080/"
        },
        "id": "GRQYTTO3PidJ",
        "outputId": "607d564f-54ca-4909-83ac-5df93d2032d7"
      },
      "outputs": [
        {
          "output_type": "execute_result",
          "data": {
            "text/plain": [
              "39.33143615572913"
            ]
          },
          "metadata": {},
          "execution_count": 36
        }
      ],
      "source": [
        "# calculo el error de mi modelo con las muestras de train = error de train\n",
        "np.sqrt(mean_squared_error(yte, ypred))\n"
      ]
    },
    {
      "cell_type": "markdown",
      "metadata": {
        "id": "yQpkINPIkuYD"
      },
      "source": [
        "##### **Objetivo 10**\n",
        "Crear un SVM Regressor y un GridSearch para realizar la búsqueda de hiperparámetros.\n",
        "\n",
        "Asignar dos posibles valores para el parámetro \"kernel\", y tres posibles valores para \"C\" y \"gamma\".\n",
        "\n",
        "Setear al parámetro \"refit\" en True y hacer 5 CrossValidation."
      ]
    },
    {
      "cell_type": "code",
      "execution_count": 37,
      "metadata": {
        "id": "cyh2r-iJNfhM"
      },
      "outputs": [],
      "source": [
        "# importo gridsearchCV\n",
        "from sklearn.model_selection import GridSearchCV\n",
        "#defino los parametros\n",
        "parameters = {'kernel':('linear', 'rbf'), 'C':[1, 10, 100], 'gamma':[0.1,0.5,1]}\n"
      ]
    },
    {
      "cell_type": "code",
      "source": [
        "# Ahora cambiamos el estimador, usaremos SVR\n",
        "#aclaracion: max_iter fue para determinar la cantidad de iteracion, porque el tiempo de ejecucion era muy largo\n",
        "svreg = SVR(max_iter=1000)\n",
        "# Defino nuevamente el objeto con los parametros previamente definidos\n",
        "clf_svm = GridSearchCV(svreg, param_grid = parameters, refit = True, cv = 5, verbose= 1)"
      ],
      "metadata": {
        "id": "lzQhnzXqyoyf"
      },
      "execution_count": 38,
      "outputs": []
    },
    {
      "cell_type": "code",
      "execution_count": null,
      "metadata": {
        "id": "JK2ZKv6ONfhM"
      },
      "outputs": [],
      "source": [
        "\n",
        "# Ajusto mi modelo a las muestras de training utilizando tanto Xtrain_cal como Ytr\n",
        "#clf_svm.fit(xtrain_scal, ytr.ravel()) \n",
        "\n",
        "clf_svm.fit (xtrain_scal, ytr)"
      ]
    },
    {
      "cell_type": "markdown",
      "metadata": {
        "id": "YOuBv_mfkuYG"
      },
      "source": [
        "##### **Objetivo 11**\n",
        "\n",
        "Mostrar cuales fueron los mejores hiperparámetros y para estos obtener el mean_squared_error en el test set."
      ]
    },
    {
      "cell_type": "code",
      "execution_count": 40,
      "metadata": {
        "id": "HHwCIS0mNfhN",
        "colab": {
          "base_uri": "https://localhost:8080/"
        },
        "outputId": "4ce390c2-6c96-4bc7-ca5b-cac32a964fd8"
      },
      "outputs": [
        {
          "output_type": "stream",
          "name": "stdout",
          "text": [
            "SVR(C=1, gamma=0.1, max_iter=1000) \n",
            "\n",
            "{'C': 1, 'gamma': 0.1, 'kernel': 'rbf'} \n",
            "\n",
            "-0.1948651925596106 \n",
            "\n"
          ]
        }
      ],
      "source": [
        "#imprimo en pantalla los mejores hiperparamentros\n",
        "print(clf_svm.best_estimator_, \"\\n\")\n",
        "print(clf_svm.best_params_, \"\\n\")\n",
        "print(clf_svm.best_score_, \"\\n\")\n"
      ]
    },
    {
      "cell_type": "code",
      "execution_count": 41,
      "metadata": {
        "id": "fc8mozfEkuYH"
      },
      "outputs": [],
      "source": [
        "ypred3 = clf_svm.predict(xtest_scal)"
      ]
    },
    {
      "cell_type": "code",
      "execution_count": 42,
      "metadata": {
        "id": "pVIN1bQ7Ve9Y",
        "colab": {
          "base_uri": "https://localhost:8080/"
        },
        "outputId": "8b5c356e-0347-4550-e76c-1d0940ab0805"
      },
      "outputs": [
        {
          "output_type": "execute_result",
          "data": {
            "text/plain": [
              "62.88295590810538"
            ]
          },
          "metadata": {},
          "execution_count": 42
        }
      ],
      "source": [
        "# calculo el error de mi modelo con las muestras \n",
        "np.sqrt(mean_squared_error(yte, ypred3))"
      ]
    },
    {
      "cell_type": "markdown",
      "metadata": {
        "id": "IJQSlAT_kuYH"
      },
      "source": [
        "##### **Objetivo 12**\n",
        "Repetir el objetivo 10 pero ahora seteando nuevos valores para los hiperparámetros mencionados con el objetivo de mejorar las predicciones.\n",
        "\n",
        "Cuales son los mejores hiperparámetros ahora?\n",
        "Obtenemos una mejora en las predicciones?\n",
        "Mostrar los resultados."
      ]
    },
    {
      "cell_type": "code",
      "execution_count": 53,
      "metadata": {
        "id": "LmYGwWhokuYI"
      },
      "outputs": [],
      "source": [
        "#defino nuevos parametros basandome en el resultado de lo obtenido en el punto 11\n",
        "parameters1 = {'kernel':('linear', 'rbf'), 'C':[0.01, 0.1,1], 'gamma':[0.001,0.01,0.1]}\n"
      ]
    },
    {
      "cell_type": "code",
      "source": [
        "svreg1 = SVR(max_iter=1000)\n",
        "# Definimos nuevamente el objeto GS con los parametros previamente definidos\n",
        "clf_svm1 = GridSearchCV(svreg1, param_grid = parameters1, refit = True, cv = 5, verbose= 1)"
      ],
      "metadata": {
        "id": "O94Bvc_1qaCf"
      },
      "execution_count": 54,
      "outputs": []
    },
    {
      "cell_type": "code",
      "execution_count": null,
      "metadata": {
        "id": "WyMHn-XYn5Uv"
      },
      "outputs": [],
      "source": [
        "# Ajusto mi modelo a las muestras de training utilizando tanto Xtrain como Yt\n",
        "clf_svm1.fit(xtrain_scal, ytr.ravel()) "
      ]
    },
    {
      "cell_type": "code",
      "execution_count": 56,
      "metadata": {
        "id": "GyUOMDd7kuYI",
        "colab": {
          "base_uri": "https://localhost:8080/"
        },
        "outputId": "70a2ded6-e22c-4e8c-cb6e-980479b55a4d"
      },
      "outputs": [
        {
          "output_type": "stream",
          "name": "stdout",
          "text": [
            "SVR(C=0.1, gamma=0.001, kernel='linear', max_iter=1000) \n",
            "\n",
            "{'C': 0.1, 'gamma': 0.001, 'kernel': 'linear'} \n",
            "\n",
            "-0.08814814138774847 \n",
            "\n"
          ]
        }
      ],
      "source": [
        "#imprimo en pantalla los mejores hiperparamentros\n",
        "print(clf_svm1.best_estimator_, \"\\n\")\n",
        "print(clf_svm1.best_params_, \"\\n\")\n",
        "print(clf_svm1.best_score_, \"\\n\")\n"
      ]
    },
    {
      "cell_type": "code",
      "source": [
        "#por los valores se puede observar que el modelo mejoro"
      ],
      "metadata": {
        "id": "B5OG96ICDqCw"
      },
      "execution_count": null,
      "outputs": []
    },
    {
      "cell_type": "code",
      "source": [
        "ypred4 = clf_svm1.predict(xtest_scal)"
      ],
      "metadata": {
        "id": "VegmCAcqehwi"
      },
      "execution_count": 57,
      "outputs": []
    },
    {
      "cell_type": "code",
      "execution_count": 58,
      "metadata": {
        "id": "z1hOoj3bxSFr",
        "colab": {
          "base_uri": "https://localhost:8080/"
        },
        "outputId": "bd282afc-00c0-4d7f-9e4a-63520eb67a60"
      },
      "outputs": [
        {
          "output_type": "execute_result",
          "data": {
            "text/plain": [
              "60.772035507566464"
            ]
          },
          "metadata": {},
          "execution_count": 58
        }
      ],
      "source": [
        "# calculo el error de mi modelo con las muestras \n",
        "np.sqrt(mean_squared_error(yte, ypred4))"
      ]
    }
  ],
  "metadata": {
    "colab": {
      "collapsed_sections": [],
      "provenance": []
    },
    "kernelspec": {
      "display_name": "Python 3 (ipykernel)",
      "language": "python",
      "name": "python3"
    },
    "language_info": {
      "codemirror_mode": {
        "name": "ipython",
        "version": 3
      },
      "file_extension": ".py",
      "mimetype": "text/x-python",
      "name": "python",
      "nbconvert_exporter": "python",
      "pygments_lexer": "ipython3",
      "version": "3.10.6"
    },
    "vscode": {
      "interpreter": {
        "hash": "c63d8c7d738c2960218a10995aedf0a7f67a49a231e71037adf0440953cdb45b"
      }
    }
  },
  "nbformat": 4,
  "nbformat_minor": 0
}